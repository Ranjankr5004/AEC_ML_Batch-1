{
 "cells": [
  {
   "cell_type": "markdown",
   "id": "dace1f35-2d9d-4136-8025-d34e602be13c",
   "metadata": {},
   "source": [
    "### Exception Handling using Python"
   ]
  },
  {
   "cell_type": "code",
   "execution_count": 6,
   "id": "e1e6cb8b-0dca-4c83-a9d0-1d9d8789a5e3",
   "metadata": {},
   "outputs": [
    {
     "name": "stdin",
     "output_type": "stream",
     "text": [
      "Please enter the first number:  100\n",
      "Please enter the second number:  200\n"
     ]
    },
    {
     "name": "stdout",
     "output_type": "stream",
     "text": [
      "So the result is 100 + 200 = 300\n"
     ]
    }
   ],
   "source": [
    "num1 = int(input(\"Please enter the first number: \"))\n",
    "num2 = int(input(\"Please enter the second number: \"))\n",
    "result = num1 + num2\n",
    "print (\"So the result is\", num1, \"+\", num2, \"=\", result)"
   ]
  },
  {
   "cell_type": "code",
   "execution_count": 21,
   "id": "05bbe78e-9e7e-4ed6-b87f-d7fa343ed5d7",
   "metadata": {},
   "outputs": [
    {
     "name": "stdout",
     "output_type": "stream",
     "text": [
      "So the result is 100 + 200 = 300\n",
      "So the result is 100 + 200 = 300\n",
      "So the result is 100 + 200 = 300\n",
      "So the result is 100 + 200 = 300\n",
      "So the result is 100 + 200 = 300\n",
      "So the result is 100 + 200 = 300\n",
      "So the result is 100 + 200 = 300\n",
      "So the result is 100 + 200 = 300\n",
      "So the result is 100 + 200 = 300.000000\n",
      "So the result is 100 + 200 =   300.00\n",
      "So the result is 100 + 200 = 300\n"
     ]
    }
   ],
   "source": [
    "print (\"So the result is\", num1, \"+\", num2, \"=\", result)\n",
    "print (\"So the result is \" + str(num1) + \" + \" + str(num2) + \" = \" + str(result))\n",
    "print (\"So the result is {} + {} = {}\".format(num1, num2, result))  # {} is called statement place holder\n",
    "print (\"So the result is {0} + {1} = {2}\".format(num1, num2, result))  # indexed place holder\n",
    "print (\"So the result is {2} + {1} = {0}\".format(result, num2, num1))  # indexed place holder\n",
    "print (\"So the result is {fnum} + {snum} = {tot}\".format(fnum=num1, snum=num2, tot=result))  # labelled place holder\n",
    "print (\"So the result is {fnum} + {snum} = {tot}\".format(tot=result, fnum=num1, snum=num2))  # labelled place holder\n",
    "print (\"So the result is %d + %d = %d\"%(num1, num2, result))\n",
    "print (\"So the result is %d + %d = %f\"%(num1, num2, result))\n",
    "print (\"So the result is %d + %d = %8.2f\"%(num1, num2, result))\n",
    "print (f\"So the result is {num1} + {num2} = {result}\")"
   ]
  },
  {
   "cell_type": "code",
   "execution_count": 25,
   "id": "90b1b08f-ef95-4b26-9143-d5775bddc58e",
   "metadata": {},
   "outputs": [
    {
     "name": "stdin",
     "output_type": "stream",
     "text": [
      "Please enter the first number:  100\n",
      "Please enter the second number:  0\n"
     ]
    },
    {
     "ename": "ZeroDivisionError",
     "evalue": "division by zero",
     "output_type": "error",
     "traceback": [
      "\u001b[1;31m---------------------------------------------------------------------------\u001b[0m",
      "\u001b[1;31mZeroDivisionError\u001b[0m                         Traceback (most recent call last)",
      "\u001b[1;32m<ipython-input-25-8cc9e34b2c01>\u001b[0m in \u001b[0;36m<module>\u001b[1;34m\u001b[0m\n\u001b[0;32m      1\u001b[0m \u001b[0mnum1\u001b[0m \u001b[1;33m=\u001b[0m \u001b[0mint\u001b[0m\u001b[1;33m(\u001b[0m\u001b[0minput\u001b[0m\u001b[1;33m(\u001b[0m\u001b[1;34m\"Please enter the first number: \"\u001b[0m\u001b[1;33m)\u001b[0m\u001b[1;33m)\u001b[0m\u001b[1;33m\u001b[0m\u001b[1;33m\u001b[0m\u001b[0m\n\u001b[0;32m      2\u001b[0m \u001b[0mnum2\u001b[0m \u001b[1;33m=\u001b[0m \u001b[0mint\u001b[0m\u001b[1;33m(\u001b[0m\u001b[0minput\u001b[0m\u001b[1;33m(\u001b[0m\u001b[1;34m\"Please enter the second number: \"\u001b[0m\u001b[1;33m)\u001b[0m\u001b[1;33m)\u001b[0m\u001b[1;33m\u001b[0m\u001b[1;33m\u001b[0m\u001b[0m\n\u001b[1;32m----> 3\u001b[1;33m \u001b[0mresult\u001b[0m \u001b[1;33m=\u001b[0m \u001b[0mnum1\u001b[0m \u001b[1;33m/\u001b[0m \u001b[0mnum2\u001b[0m\u001b[1;33m\u001b[0m\u001b[1;33m\u001b[0m\u001b[0m\n\u001b[0m\u001b[0;32m      4\u001b[0m \u001b[0mprint\u001b[0m \u001b[1;33m(\u001b[0m\u001b[1;34mf\"So the result is {num1} / {num2} = {result}\"\u001b[0m\u001b[1;33m)\u001b[0m\u001b[1;33m\u001b[0m\u001b[1;33m\u001b[0m\u001b[0m\n\u001b[0;32m      5\u001b[0m \u001b[0mprint\u001b[0m \u001b[1;33m(\u001b[0m\u001b[1;34m\"End of the program...\"\u001b[0m\u001b[1;33m)\u001b[0m\u001b[1;33m\u001b[0m\u001b[1;33m\u001b[0m\u001b[0m\n",
      "\u001b[1;31mZeroDivisionError\u001b[0m: division by zero"
     ]
    }
   ],
   "source": [
    "num1 = int(input(\"Please enter the first number: \"))\n",
    "num2 = int(input(\"Please enter the second number: \"))\n",
    "result = num1 / num2\n",
    "print (f\"So the result is {num1} / {num2} = {result}\")\n",
    "print (\"End of the program...\")"
   ]
  },
  {
   "cell_type": "code",
   "execution_count": 27,
   "id": "b1f590de-5e07-4534-82df-57b88cd26723",
   "metadata": {},
   "outputs": [
    {
     "name": "stdin",
     "output_type": "stream",
     "text": [
      "Please enter the first number:  100\n",
      "Please enter the second number:  0\n"
     ]
    },
    {
     "name": "stdout",
     "output_type": "stream",
     "text": [
      "ZeroDivisionError: Division by ZERO is ILLEGAL...\n",
      "ZeroDivisionError: Error type is: <class 'ZeroDivisionError'>\n",
      "ZeroDivisionError: Error message is: division by zero\n",
      "End of the program...\n"
     ]
    }
   ],
   "source": [
    "try:\n",
    "    num1 = int(input(\"Please enter the first number: \"))\n",
    "    num2 = int(input(\"Please enter the second number: \"))\n",
    "    result = num1 / num2\n",
    "    print (f\"So the result is {num1} / {num2} = {result}\")\n",
    "except ZeroDivisionError as zde:\n",
    "    print (\"ZeroDivisionError: Division by ZERO is ILLEGAL...\")\n",
    "    print (\"ZeroDivisionError: Error type is:\", type(zde))\n",
    "    print (\"ZeroDivisionError: Error message is:\", zde)\n",
    "print (\"End of the program...\")"
   ]
  },
  {
   "cell_type": "code",
   "execution_count": null,
   "id": "cdfbd672-88b1-40e1-97b4-c99fc8929400",
   "metadata": {},
   "outputs": [],
   "source": []
  },
  {
   "cell_type": "code",
   "execution_count": null,
   "id": "29e1c275-ec62-41ed-b21a-3ca8919e4e2e",
   "metadata": {},
   "outputs": [],
   "source": []
  },
  {
   "cell_type": "code",
   "execution_count": null,
   "id": "28479ada-8201-4c04-bc71-108c5ab81999",
   "metadata": {},
   "outputs": [],
   "source": []
  },
  {
   "cell_type": "code",
   "execution_count": null,
   "id": "a99937ff-ed9b-43a5-81db-475512798f7c",
   "metadata": {},
   "outputs": [],
   "source": []
  },
  {
   "cell_type": "code",
   "execution_count": null,
   "id": "4cc713a3-43b5-44b9-9604-2bc1cf280d4e",
   "metadata": {},
   "outputs": [],
   "source": []
  },
  {
   "cell_type": "code",
   "execution_count": null,
   "id": "1a917b42-0aa2-43de-9459-335254f9c528",
   "metadata": {},
   "outputs": [],
   "source": []
  },
  {
   "cell_type": "code",
   "execution_count": null,
   "id": "85a6ad59-246b-417e-a508-b8a4e9e57bc6",
   "metadata": {},
   "outputs": [],
   "source": []
  },
  {
   "cell_type": "code",
   "execution_count": null,
   "id": "e9cfb740-ab53-43da-8d0b-d6628415bc98",
   "metadata": {},
   "outputs": [],
   "source": []
  },
  {
   "cell_type": "code",
   "execution_count": null,
   "id": "5841a029-839e-4bc4-924a-9ce3e0e5ca7c",
   "metadata": {},
   "outputs": [],
   "source": []
  },
  {
   "cell_type": "code",
   "execution_count": null,
   "id": "ed1e3b73-7216-400e-9772-2bc280b82170",
   "metadata": {},
   "outputs": [],
   "source": []
  },
  {
   "cell_type": "code",
   "execution_count": null,
   "id": "a95597cd-93cc-4f9f-a414-7e89977ee258",
   "metadata": {},
   "outputs": [],
   "source": []
  },
  {
   "cell_type": "code",
   "execution_count": null,
   "id": "a820b812-4b06-464d-aa7e-f5d8e5be882b",
   "metadata": {},
   "outputs": [],
   "source": []
  },
  {
   "cell_type": "code",
   "execution_count": null,
   "id": "1d0c634f-49e1-4c5c-8fa9-f52cf266df1d",
   "metadata": {},
   "outputs": [],
   "source": []
  },
  {
   "cell_type": "code",
   "execution_count": null,
   "id": "dc97f857-8278-4e0e-a837-b84e490d16cc",
   "metadata": {},
   "outputs": [],
   "source": []
  },
  {
   "cell_type": "code",
   "execution_count": null,
   "id": "63382528-2104-43d5-ba1e-fa88e80aa602",
   "metadata": {},
   "outputs": [],
   "source": []
  },
  {
   "cell_type": "code",
   "execution_count": null,
   "id": "44fdbd8f-85ec-462d-a734-0b011b51cbe8",
   "metadata": {},
   "outputs": [],
   "source": []
  },
  {
   "cell_type": "code",
   "execution_count": null,
   "id": "b8ea1cfb-ffa0-4647-b8bf-9eb15d19f883",
   "metadata": {},
   "outputs": [],
   "source": []
  },
  {
   "cell_type": "code",
   "execution_count": null,
   "id": "5f51b003-cfd5-40d3-90fc-730c7afd40bc",
   "metadata": {},
   "outputs": [],
   "source": []
  },
  {
   "cell_type": "code",
   "execution_count": null,
   "id": "bf5125e2-8962-48d7-9645-c07b6d59edb5",
   "metadata": {},
   "outputs": [],
   "source": []
  },
  {
   "cell_type": "code",
   "execution_count": null,
   "id": "37e5b04c-6b97-44cd-9a0d-b594c23e28c6",
   "metadata": {},
   "outputs": [],
   "source": []
  },
  {
   "cell_type": "code",
   "execution_count": null,
   "id": "a2932ebc-f0f9-45f4-a81e-b3bc8cda7aa4",
   "metadata": {},
   "outputs": [],
   "source": []
  },
  {
   "cell_type": "code",
   "execution_count": null,
   "id": "6b955a1a-cfe4-499c-8949-e1c67a13fc9a",
   "metadata": {},
   "outputs": [],
   "source": []
  },
  {
   "cell_type": "code",
   "execution_count": null,
   "id": "482b2ed8-5caa-4e25-8946-965f79ab6925",
   "metadata": {},
   "outputs": [],
   "source": []
  },
  {
   "cell_type": "code",
   "execution_count": null,
   "id": "1cd890fb-6f53-4915-9ea5-3873743abc2e",
   "metadata": {},
   "outputs": [],
   "source": []
  },
  {
   "cell_type": "code",
   "execution_count": null,
   "id": "f5bd3b8d-e6e7-41b4-8a67-6616492ed1b9",
   "metadata": {},
   "outputs": [],
   "source": []
  }
 ],
 "metadata": {
  "kernelspec": {
   "display_name": "Python 3",
   "language": "python",
   "name": "python3"
  },
  "language_info": {
   "codemirror_mode": {
    "name": "ipython",
    "version": 3
   },
   "file_extension": ".py",
   "mimetype": "text/x-python",
   "name": "python",
   "nbconvert_exporter": "python",
   "pygments_lexer": "ipython3",
   "version": "3.8.8"
  }
 },
 "nbformat": 4,
 "nbformat_minor": 5
}
